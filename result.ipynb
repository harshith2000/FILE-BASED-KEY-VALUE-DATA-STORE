{
 "cells": [
  {
   "cell_type": "code",
   "execution_count": 1,
   "metadata": {},
   "outputs": [
    {
     "name": "stdout",
     "output_type": "stream",
     "text": [
      "********** FILE BASED KEY-VALUE DATA STORE **********\n",
      "\n",
      "Create new path?: (y/n)y\n",
      "Enter path: C:\\\\Users\\\\Harshith\\\\Music\\\\FRESHWORKS\n",
      "\n",
      "Datastore path: C:\\\\Users\\\\Harshith\\\\Music\\\\FRESHWORKS\\key_value_data_store.txt\n",
      "\n",
      "\n",
      "\n",
      "***Methods availabele: ***\n",
      "1. create()\n",
      "2. read()\n",
      "3 .delete()\n",
      "4. update()\n"
     ]
    }
   ],
   "source": [
    "import program as pg"
   ]
  },
  {
   "cell_type": "code",
   "execution_count": 2,
   "metadata": {},
   "outputs": [
    {
     "name": "stdout",
     "output_type": "stream",
     "text": [
      "Enter key: Ironman\n",
      "Enter the no of values: 2\n",
      "Enter the values in the form of key-value pair e.g: name:freshworks \n",
      "Enter key 1 and value: Name:Tony\n",
      "Enter key 2 and value: Actor:Robert Downey Jr.\n",
      "Specify time limit?: (y/n) y\n",
      "Enter Time Limit in minutes:2\n"
     ]
    }
   ],
   "source": [
    "pg.create()"
   ]
  },
  {
   "cell_type": "code",
   "execution_count": 3,
   "metadata": {},
   "outputs": [
    {
     "name": "stdout",
     "output_type": "stream",
     "text": [
      "Enter key: Ironman\n",
      "{'Name': 'Tony', 'Actor': 'Robert Downey Jr.'}\n"
     ]
    }
   ],
   "source": [
    "pg.read()"
   ]
  },
  {
   "cell_type": "code",
   "execution_count": 4,
   "metadata": {},
   "outputs": [
    {
     "name": "stdout",
     "output_type": "stream",
     "text": [
      "Enter key: Ironman\n",
      "Enter no of values: 2\n",
      "Enter the values in the form of key-value pair e.g: name:freshworks \n",
      "Enter key 1 and value: Name:Tony Stark\n",
      "Enter key 2 and value: Actor:Robert Downey Jr. \n",
      "Key  Ironman  is succesfully updated\n"
     ]
    }
   ],
   "source": [
    "pg.update()"
   ]
  },
  {
   "cell_type": "code",
   "execution_count": 5,
   "metadata": {},
   "outputs": [
    {
     "name": "stdout",
     "output_type": "stream",
     "text": [
      "Enter key: Ironman\n",
      "{'Name': 'Tony Stark', 'Actor': 'Robert Downey Jr. '}\n"
     ]
    }
   ],
   "source": [
    "pg.read()"
   ]
  },
  {
   "cell_type": "code",
   "execution_count": 6,
   "metadata": {},
   "outputs": [
    {
     "name": "stdout",
     "output_type": "stream",
     "text": [
      "Enter key: Captain America\n",
      "Enter no of values: 2\n",
      "Enter the values in the form of key-value pair e.g: name:freshworks\n",
      "Enter key1 and value: Name:Steve Rogers\n",
      "Enter key2 and value: Actor:Chris Evans\n",
      "Specify time limit?: (y/n) n\n"
     ]
    }
   ],
   "source": [
    "pg.create()"
   ]
  },
  {
   "cell_type": "code",
   "execution_count": 7,
   "metadata": {},
   "outputs": [
    {
     "name": "stdout",
     "output_type": "stream",
     "text": [
      "Enter key: Captain America\n",
      "{'Name': 'Steve Rogers', 'Actor': 'Chris Evans'}\n"
     ]
    }
   ],
   "source": [
    "pg.read()"
   ]
  },
  {
   "cell_type": "code",
   "execution_count": 8,
   "metadata": {},
   "outputs": [
    {
     "name": "stdout",
     "output_type": "stream",
     "text": [
      "Enter key: Captain America\n",
      "Key  Captain America  is successfully deleted\n"
     ]
    }
   ],
   "source": [
    "pg.delete()"
   ]
  },
  {
   "cell_type": "code",
   "execution_count": 9,
   "metadata": {},
   "outputs": [
    {
     "name": "stdout",
     "output_type": "stream",
     "text": [
      "Enter key: Captain America\n",
      "Error: Key does not exist in file. Enter a valid key\n"
     ]
    }
   ],
   "source": [
    "pg.read()"
   ]
  },
  {
   "cell_type": "code",
   "execution_count": 10,
   "metadata": {},
   "outputs": [
    {
     "name": "stdout",
     "output_type": "stream",
     "text": [
      "Enter key: Ironman\n",
      "Error:  Ironman  has expired\n"
     ]
    }
   ],
   "source": [
    "pg.read()"
   ]
  },
  {
   "cell_type": "code",
   "execution_count": null,
   "metadata": {},
   "outputs": [],
   "source": []
  }
 ],
 "metadata": {
  "kernelspec": {
   "display_name": "Python 3",
   "language": "python",
   "name": "python3"
  },
  "language_info": {
   "codemirror_mode": {
    "name": "ipython",
    "version": 3
   },
   "file_extension": ".py",
   "mimetype": "text/x-python",
   "name": "python",
   "nbconvert_exporter": "python",
   "pygments_lexer": "ipython3",
   "version": "3.6.7"
  }
 },
 "nbformat": 4,
 "nbformat_minor": 2
}
